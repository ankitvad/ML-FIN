{
 "metadata": {
  "name": "",
  "signature": "sha256:2f4078fd4cfc0bd87af6a799f002855ef25ab29ca5e728305a826beea1a42221"
 },
 "nbformat": 3,
 "nbformat_minor": 0,
 "worksheets": [
  {
   "cells": [
    {
     "cell_type": "code",
     "collapsed": false,
     "input": [
      "import neurolab as nl"
     ],
     "language": "python",
     "metadata": {},
     "outputs": [],
     "prompt_number": 1
    },
    {
     "cell_type": "code",
     "collapsed": false,
     "input": [
      "import numpy as np"
     ],
     "language": "python",
     "metadata": {},
     "outputs": [],
     "prompt_number": 2
    },
    {
     "cell_type": "code",
     "collapsed": false,
     "input": [
      "import csv"
     ],
     "language": "python",
     "metadata": {},
     "outputs": [],
     "prompt_number": 4
    },
    {
     "cell_type": "code",
     "collapsed": false,
     "input": [
      "def parse(na):\n",
      "\ta = []\n",
      "\tinputs = []\n",
      "\twith open(na, 'rb') as csvfile:\n",
      "    \t\tspamreader = csv.reader(csvfile, delimiter=' ', quotechar='|')\n",
      "    \t\tfor row in spamreader:\n",
      "        \t\ta.append(', '.join(row).split(\",\"))\n",
      "\n",
      "\tfor i in a:\n",
      "    \t\ti = [float(j) for j in i]\n",
      "    \t\tinputs.append(i)\n",
      "\n",
      "\tinputs = np.array(inputs)\n",
      "\treturn inputs"
     ],
     "language": "python",
     "metadata": {},
     "outputs": [],
     "prompt_number": 5
    },
    {
     "cell_type": "code",
     "collapsed": false,
     "input": [
      "inputs = parse('in(n).csv')"
     ],
     "language": "python",
     "metadata": {},
     "outputs": [],
     "prompt_number": 6
    },
    {
     "cell_type": "code",
     "collapsed": false,
     "input": [
      "targets = parse('targets1.csv')"
     ],
     "language": "python",
     "metadata": {},
     "outputs": [],
     "prompt_number": 7
    },
    {
     "cell_type": "code",
     "collapsed": false,
     "input": [
      "inputs"
     ],
     "language": "python",
     "metadata": {},
     "outputs": [
      {
       "metadata": {},
       "output_type": "pyout",
       "prompt_number": 8,
       "text": [
        "array([[  9.57872928e-01,   6.03018373e-01,   9.69963370e-01,\n",
        "          1.18567306e-01],\n",
        "       [  1.00000000e+00,   6.45013123e-01,   9.94871795e-01,\n",
        "          1.59477338e-01],\n",
        "       [  9.73756906e-01,   6.15485564e-01,   1.00000000e+00,\n",
        "          1.82146247e-01],\n",
        "       ..., \n",
        "       [  1.59530387e-01,   3.01181102e-01,   0.00000000e+00,\n",
        "          3.55379108e-02],\n",
        "       [  1.62292818e-01,   2.81496063e-01,   8.05860810e-03,\n",
        "          1.22108570e-01],\n",
        "       [  1.85082873e-01,   3.04461942e-01,   7.32600700e-04,\n",
        "          1.00981436e-01]])"
       ]
      }
     ],
     "prompt_number": 8
    },
    {
     "cell_type": "code",
     "collapsed": false,
     "input": [
      "len(targets) == len(inputs)"
     ],
     "language": "python",
     "metadata": {},
     "outputs": [
      {
       "metadata": {},
       "output_type": "pyout",
       "prompt_number": 10,
       "text": [
        "True"
       ]
      }
     ],
     "prompt_number": 10
    },
    {
     "cell_type": "code",
     "collapsed": false,
     "input": [
      "net = nl.net.newff([[-1, 1], [-1, 1], [-1, 1], [-1, 1]], [5, 10, 25, 1], \n",
      "                   [nl.trans.TanSig(), nl.trans.TanSig(), nl.trans.TanSig(), nl.trans.PureLin()])"
     ],
     "language": "python",
     "metadata": {},
     "outputs": [],
     "prompt_number": 11
    },
    {
     "cell_type": "markdown",
     "metadata": {},
     "source": [
      "The first parameter is list of lists that set range of corresponding input neurons.\n",
      "\n",
      "The second parameter is list, which length is equal to the number of layers and the first element of this list is the number of neurons in the input layer, the second element of this list is the number of neurons in the second layer and so on.\n",
      "\n",
      "The elements of the third list correspond to transformation functions of individual layers, therefore lenght of the second parameter must be equal to the lenght of the third parameter."
     ]
    },
    {
     "cell_type": "code",
     "collapsed": false,
     "input": [
      "error = net.train(inputs, targets, epochs = 1000, show = 100, goal = 0.02)"
     ],
     "language": "python",
     "metadata": {},
     "outputs": [
      {
       "output_type": "stream",
       "stream": "stdout",
       "text": [
        "Epoch: 100; Error: 0.0853110999249;\n",
        "Epoch: 200; Error: 0.0555731202232;"
       ]
      },
      {
       "output_type": "stream",
       "stream": "stdout",
       "text": [
        "\n",
        "Epoch: 300; Error: 0.0276911779539;"
       ]
      },
      {
       "output_type": "stream",
       "stream": "stdout",
       "text": [
        "\n",
        "The goal of learning is reached"
       ]
      },
      {
       "output_type": "stream",
       "stream": "stdout",
       "text": [
        "\n"
       ]
      }
     ],
     "prompt_number": 14
    },
    {
     "cell_type": "code",
     "collapsed": false,
     "input": [
      "output = net.sim(inputs)"
     ],
     "language": "python",
     "metadata": {},
     "outputs": [],
     "prompt_number": 16
    },
    {
     "cell_type": "code",
     "collapsed": false,
     "input": [
      "%matplotlib inline"
     ],
     "language": "python",
     "metadata": {},
     "outputs": [],
     "prompt_number": 19
    },
    {
     "cell_type": "code",
     "collapsed": false,
     "input": [
      "import matplotlib.pyplot as plt"
     ],
     "language": "python",
     "metadata": {},
     "outputs": [],
     "prompt_number": 20
    },
    {
     "cell_type": "code",
     "collapsed": false,
     "input": [
      "plt.subplot(211)\n",
      "plt.plot(error)\n",
      "plt.xlabel('Epoch number')\n",
      "plt.ylabel('error (default SSE)')"
     ],
     "language": "python",
     "metadata": {},
     "outputs": [
      {
       "metadata": {},
       "output_type": "pyout",
       "prompt_number": 24,
       "text": [
        "<matplotlib.text.Text at 0x36fe510>"
       ]
      },
      {
       "metadata": {},
       "output_type": "display_data",
       "png": "[encoded data removed]",
       "text": [
        "<matplotlib.figure.Figure at 0x36ac750>"
       ]
      }
     ],
     "prompt_number": 24
    },
    {
     "cell_type": "code",
     "collapsed": false,
     "input": [
      "plt.subplot(212)\n",
      "plt.plot(output, '-')\n",
      "plt.plot(targets, 'r-')"
     ],
     "language": "python",
     "metadata": {},
     "outputs": [
      {
       "metadata": {},
       "output_type": "pyout",
       "prompt_number": 27,
       "text": [
        "[<matplotlib.lines.Line2D at 0x3fd4d10>]"
       ]
      },
      {
       "metadata": {},
       "output_type": "display_data",
       "png": "[encoded data removed]",
       "text": [
        "<matplotlib.figure.Figure at 0x3df3d50>"
       ]
      }
     ],
     "prompt_number": 27
    },
    {
     "cell_type": "code",
     "collapsed": false,
     "input": [
      "net.save('test.net')"
     ],
     "language": "python",
     "metadata": {},
     "outputs": [],
     "prompt_number": 28
    },
    {
     "cell_type": "code",
     "collapsed": false,
     "input": [
      "net = nl.load('test.net')"
     ],
     "language": "python",
     "metadata": {},
     "outputs": [],
     "prompt_number": 29
    },
    {
     "cell_type": "markdown",
     "metadata": {},
     "source": [
      "The Neurolab framework is working fine, however this example is useless because of issues with data normalization and also internal logic of data."
     ]
    }
   ],
   "metadata": {}
  }
 ]
}
