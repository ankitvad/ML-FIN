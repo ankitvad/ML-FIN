{
 "metadata": {
  "name": ""
 },
 "nbformat": 3,
 "nbformat_minor": 0,
 "worksheets": [
  {
   "cells": [
    {
     "cell_type": "code",
     "collapsed": false,
     "input": [
      "import datetime\n",
      "\n",
      "import pandas as pd\n",
      "import pandas.io.data\n",
      "from pandas import Series, DataFrame\n",
      "pd.__version__"
     ],
     "language": "python",
     "metadata": {},
     "outputs": [
      {
       "metadata": {},
       "output_type": "pyout",
       "prompt_number": 1,
       "text": [
        "'0.13.1'"
       ]
      }
     ],
     "prompt_number": 1
    },
    {
     "cell_type": "code",
     "collapsed": false,
     "input": [
      "%matplotlib inline"
     ],
     "language": "python",
     "metadata": {},
     "outputs": [],
     "prompt_number": 2
    },
    {
     "cell_type": "code",
     "collapsed": false,
     "input": [
      "NDX = pd.io.data.get_data_yahoo('^NDX', \n",
      "                                 start=datetime.datetime(1994, 12, 1), \n",
      "                                 end=datetime.datetime(2014, 12, 1))\n",
      "NDX.head()"
     ],
     "language": "python",
     "metadata": {},
     "outputs": [
      {
       "html": [
        "<div style=\"max-height:1000px;max-width:1500px;overflow:auto;\">\n",
        "<table border=\"1\" class=\"dataframe\">\n",
        "  <thead>\n",
        "    <tr style=\"text-align: right;\">\n",
        "      <th></th>\n",
        "      <th>Open</th>\n",
        "      <th>High</th>\n",
        "      <th>Low</th>\n",
        "      <th>Close</th>\n",
        "      <th>Volume</th>\n",
        "      <th>Adj Close</th>\n",
        "    </tr>\n",
        "    <tr>\n",
        "      <th>Date</th>\n",
        "      <th></th>\n",
        "      <th></th>\n",
        "      <th></th>\n",
        "      <th></th>\n",
        "      <th></th>\n",
        "      <th></th>\n",
        "    </tr>\n",
        "  </thead>\n",
        "  <tbody>\n",
        "    <tr>\n",
        "      <th>1994-12-01</th>\n",
        "      <td> 404.82</td>\n",
        "      <td> 404.88</td>\n",
        "      <td> 397.44</td>\n",
        "      <td> 397.66</td>\n",
        "      <td> 275730000</td>\n",
        "      <td> 397.66</td>\n",
        "    </tr>\n",
        "    <tr>\n",
        "      <th>1994-12-02</th>\n",
        "      <td> 399.06</td>\n",
        "      <td> 402.18</td>\n",
        "      <td> 395.70</td>\n",
        "      <td> 402.04</td>\n",
        "      <td> 259950000</td>\n",
        "      <td> 402.04</td>\n",
        "    </tr>\n",
        "    <tr>\n",
        "      <th>1994-12-05</th>\n",
        "      <td> 402.04</td>\n",
        "      <td> 404.84</td>\n",
        "      <td> 401.11</td>\n",
        "      <td> 402.71</td>\n",
        "      <td> 247520000</td>\n",
        "      <td> 402.71</td>\n",
        "    </tr>\n",
        "    <tr>\n",
        "      <th>1994-12-06</th>\n",
        "      <td> 402.71</td>\n",
        "      <td> 405.14</td>\n",
        "      <td> 399.88</td>\n",
        "      <td> 399.98</td>\n",
        "      <td> 286350000</td>\n",
        "      <td> 399.98</td>\n",
        "    </tr>\n",
        "    <tr>\n",
        "      <th>1994-12-07</th>\n",
        "      <td> 399.98</td>\n",
        "      <td> 400.82</td>\n",
        "      <td> 395.49</td>\n",
        "      <td> 395.75</td>\n",
        "      <td> 272250000</td>\n",
        "      <td> 395.75</td>\n",
        "    </tr>\n",
        "  </tbody>\n",
        "</table>\n",
        "<p>5 rows \u00d7 6 columns</p>\n",
        "</div>"
       ],
       "metadata": {},
       "output_type": "pyout",
       "prompt_number": 3,
       "text": [
        "              Open    High     Low   Close     Volume  Adj Close\n",
        "Date                                                            \n",
        "1994-12-01  404.82  404.88  397.44  397.66  275730000     397.66\n",
        "1994-12-02  399.06  402.18  395.70  402.04  259950000     402.04\n",
        "1994-12-05  402.04  404.84  401.11  402.71  247520000     402.71\n",
        "1994-12-06  402.71  405.14  399.88  399.98  286350000     399.98\n",
        "1994-12-07  399.98  400.82  395.49  395.75  272250000     395.75\n",
        "\n",
        "[5 rows x 6 columns]"
       ]
      }
     ],
     "prompt_number": 3
    },
    {
     "cell_type": "code",
     "collapsed": false,
     "input": [
      "NDX_1d_prices = NDX['Adj Close']\n",
      "NDX_1d_prices.plot()"
     ],
     "language": "python",
     "metadata": {},
     "outputs": [
      {
       "metadata": {},
       "output_type": "pyout",
       "prompt_number": 11,
       "text": [
        "<matplotlib.axes.AxesSubplot at 0x7fb9ef64bdd0>"
       ]
      },
      {
       "metadata": {},
       "output_type": "display_data",
       "png": "[encoded data removed]",
       "text": [
        "<matplotlib.figure.Figure at 0x7fb9f95ef110>"
       ]
      }
     ],
     "prompt_number": 11
    },
    {
     "cell_type": "markdown",
     "metadata": {},
     "source": [
      "Test the hypothesis of Random Walk(with drift?) of Stock Prices. "
     ]
    },
    {
     "cell_type": "code",
     "collapsed": false,
     "input": [
      "import statsmodels.api as sm\n",
      "\n",
      "NDX_1d_prices.shift().dropna().describe(), NDX_1d_prices[1:5036].describe()"
     ],
     "language": "python",
     "metadata": {},
     "outputs": [
      {
       "metadata": {},
       "output_type": "pyout",
       "prompt_number": 14,
       "text": [
        "(count    5035.000000\n",
        "mean     1841.621212\n",
        "std       889.009763\n",
        "min       386.300000\n",
        "25%      1231.540000\n",
        "50%      1680.630000\n",
        "75%      2300.665000\n",
        "max      4704.730000\n",
        "Name: Adj Close, dtype: float64,\n",
        " count    5035.000000\n",
        "mean     1842.393833\n",
        "std       889.444916\n",
        "min       386.300000\n",
        "25%      1232.690000\n",
        "50%      1680.640000\n",
        "75%      2301.480000\n",
        "max      4704.730000\n",
        "Name: Adj Close, dtype: float64)"
       ]
      }
     ],
     "prompt_number": 14
    },
    {
     "cell_type": "code",
     "collapsed": false,
     "input": [
      "y = NDX_1d_prices[1:5036]\n",
      "X = NDX_1d_prices.shift().dropna()\n",
      "X = sm.add_constant(X)  # Adds a constant term to the predictor\n",
      "X.head()"
     ],
     "language": "python",
     "metadata": {},
     "outputs": [
      {
       "html": [
        "<div style=\"max-height:1000px;max-width:1500px;overflow:auto;\">\n",
        "<table border=\"1\" class=\"dataframe\">\n",
        "  <thead>\n",
        "    <tr style=\"text-align: right;\">\n",
        "      <th></th>\n",
        "      <th>const</th>\n",
        "      <th>Adj Close</th>\n",
        "    </tr>\n",
        "    <tr>\n",
        "      <th>Date</th>\n",
        "      <th></th>\n",
        "      <th></th>\n",
        "    </tr>\n",
        "  </thead>\n",
        "  <tbody>\n",
        "    <tr>\n",
        "      <th>1994-12-02</th>\n",
        "      <td> 1</td>\n",
        "      <td> 397.66</td>\n",
        "    </tr>\n",
        "    <tr>\n",
        "      <th>1994-12-05</th>\n",
        "      <td> 1</td>\n",
        "      <td> 402.04</td>\n",
        "    </tr>\n",
        "    <tr>\n",
        "      <th>1994-12-06</th>\n",
        "      <td> 1</td>\n",
        "      <td> 402.71</td>\n",
        "    </tr>\n",
        "    <tr>\n",
        "      <th>1994-12-07</th>\n",
        "      <td> 1</td>\n",
        "      <td> 399.98</td>\n",
        "    </tr>\n",
        "    <tr>\n",
        "      <th>1994-12-08</th>\n",
        "      <td> 1</td>\n",
        "      <td> 395.75</td>\n",
        "    </tr>\n",
        "  </tbody>\n",
        "</table>\n",
        "<p>5 rows \u00d7 2 columns</p>\n",
        "</div>"
       ],
       "metadata": {},
       "output_type": "pyout",
       "prompt_number": 15,
       "text": [
        "            const  Adj Close\n",
        "Date                        \n",
        "1994-12-02      1     397.66\n",
        "1994-12-05      1     402.04\n",
        "1994-12-06      1     402.71\n",
        "1994-12-07      1     399.98\n",
        "1994-12-08      1     395.75\n",
        "\n",
        "[5 rows x 2 columns]"
       ]
      }
     ],
     "prompt_number": 15
    },
    {
     "cell_type": "code",
     "collapsed": false,
     "input": [
      "est = sm.OLS(y, X)\n",
      "est = est.fit()\n",
      "est.summary()"
     ],
     "language": "python",
     "metadata": {},
     "outputs": [
      {
       "html": [
        "<table class=\"simpletable\">\n",
        "<caption>OLS Regression Results</caption>\n",
        "<tr>\n",
        "  <th>Dep. Variable:</th>        <td>Adj Close</td>    <th>  R-squared:         </th> <td>   0.998</td> \n",
        "</tr>\n",
        "<tr>\n",
        "  <th>Model:</th>                   <td>OLS</td>       <th>  Adj. R-squared:    </th> <td>   0.998</td> \n",
        "</tr>\n",
        "<tr>\n",
        "  <th>Method:</th>             <td>Least Squares</td>  <th>  F-statistic:       </th> <td>2.534e+06</td>\n",
        "</tr>\n",
        "<tr>\n",
        "  <th>Date:</th>             <td>Thu, 01 Jan 2015</td> <th>  Prob (F-statistic):</th>  <td>  0.00</td>  \n",
        "</tr>\n",
        "<tr>\n",
        "  <th>Time:</th>                 <td>17:23:41</td>     <th>  Log-Likelihood:    </th> <td> -25667.</td> \n",
        "</tr>\n",
        "<tr>\n",
        "  <th>No. Observations:</th>      <td>  5035</td>      <th>  AIC:               </th> <td>5.134e+04</td>\n",
        "</tr>\n",
        "<tr>\n",
        "  <th>Df Residuals:</th>          <td>  5033</td>      <th>  BIC:               </th> <td>5.135e+04</td>\n",
        "</tr>\n",
        "<tr>\n",
        "  <th>Df Model:</th>              <td>     1</td>      <th>                     </th>     <td> </td>    \n",
        "</tr>\n",
        "<tr>\n",
        "  <th>Covariance Type:</th>      <td>nonrobust</td>    <th>                     </th>     <td> </td>    \n",
        "</tr>\n",
        "</table>\n",
        "<table class=\"simpletable\">\n",
        "<tr>\n",
        "      <td></td>         <th>coef</th>     <th>std err</th>      <th>t</th>      <th>P>|t|</th> <th>[95.0% Conf. Int.]</th> \n",
        "</tr>\n",
        "<tr>\n",
        "  <th>const</th>     <td>    1.6982</td> <td>    1.284</td> <td>    1.323</td> <td> 0.186</td> <td>   -0.819     4.215</td>\n",
        "</tr>\n",
        "<tr>\n",
        "  <th>Adj Close</th> <td>    0.9995</td> <td>    0.001</td> <td> 1591.894</td> <td> 0.000</td> <td>    0.998     1.001</td>\n",
        "</tr>\n",
        "</table>\n",
        "<table class=\"simpletable\">\n",
        "<tr>\n",
        "  <th>Omnibus:</th>       <td>1061.940</td> <th>  Durbin-Watson:     </th> <td>   2.122</td> \n",
        "</tr>\n",
        "<tr>\n",
        "  <th>Prob(Omnibus):</th>  <td> 0.000</td>  <th>  Jarque-Bera (JB):  </th> <td>40859.932</td>\n",
        "</tr>\n",
        "<tr>\n",
        "  <th>Skew:</th>           <td> 0.090</td>  <th>  Prob(JB):          </th> <td>    0.00</td> \n",
        "</tr>\n",
        "<tr>\n",
        "  <th>Kurtosis:</th>       <td>16.955</td>  <th>  Cond. No.          </th> <td>4.70e+03</td> \n",
        "</tr>\n",
        "</table>"
       ],
       "metadata": {},
       "output_type": "pyout",
       "prompt_number": 16,
       "text": [
        "<class 'statsmodels.iolib.summary.Summary'>\n",
        "\"\"\"\n",
        "                            OLS Regression Results                            \n",
        "==============================================================================\n",
        "Dep. Variable:              Adj Close   R-squared:                       0.998\n",
        "Model:                            OLS   Adj. R-squared:                  0.998\n",
        "Method:                 Least Squares   F-statistic:                 2.534e+06\n",
        "Date:                Thu, 01 Jan 2015   Prob (F-statistic):               0.00\n",
        "Time:                        17:23:41   Log-Likelihood:                -25667.\n",
        "No. Observations:                5035   AIC:                         5.134e+04\n",
        "Df Residuals:                    5033   BIC:                         5.135e+04\n",
        "Df Model:                           1                                         \n",
        "Covariance Type:            nonrobust                                         \n",
        "==============================================================================\n",
        "                 coef    std err          t      P>|t|      [95.0% Conf. Int.]\n",
        "------------------------------------------------------------------------------\n",
        "const          1.6982      1.284      1.323      0.186        -0.819     4.215\n",
        "Adj Close      0.9995      0.001   1591.894      0.000         0.998     1.001\n",
        "==============================================================================\n",
        "Omnibus:                     1061.940   Durbin-Watson:                   2.122\n",
        "Prob(Omnibus):                  0.000   Jarque-Bera (JB):            40859.932\n",
        "Skew:                           0.090   Prob(JB):                         0.00\n",
        "Kurtosis:                      16.955   Cond. No.                     4.70e+03\n",
        "==============================================================================\n",
        "\n",
        "Warnings:\n",
        "[1] Standard Errors assume that the covariance matrix of the errors is correctly specified.\n",
        "[2] The condition number is large, 4.7e+03. This might indicate that there are\n",
        "strong multicollinearity or other numerical problems.\n",
        "\"\"\""
       ]
      }
     ],
     "prompt_number": 16
    },
    {
     "cell_type": "code",
     "collapsed": false,
     "input": [
      "NDX_1d_returns = NDX['Adj Close'].pct_change().dropna()"
     ],
     "language": "python",
     "metadata": {},
     "outputs": [],
     "prompt_number": 7
    },
    {
     "cell_type": "code",
     "collapsed": false,
     "input": [
      "NDX_1d_returns.plot()"
     ],
     "language": "python",
     "metadata": {},
     "outputs": [
      {
       "metadata": {},
       "output_type": "pyout",
       "prompt_number": 8,
       "text": [
        "<matplotlib.axes.AxesSubplot at 0x7fb9f8cc7790>"
       ]
      },
      {
       "metadata": {},
       "output_type": "display_data",
       "png": "[encoded data removed]",
       "text": [
        "<matplotlib.figure.Figure at 0x7fb9f8cc70d0>"
       ]
      }
     ],
     "prompt_number": 8
    },
    {
     "cell_type": "code",
     "collapsed": false,
     "input": [
      "NDX_1d_returns[1000:2000].hist(bins=100), \n",
      "NDX_1d_returns[2000:3000].hist(bins=100)"
     ],
     "language": "python",
     "metadata": {},
     "outputs": [
      {
       "metadata": {},
       "output_type": "pyout",
       "prompt_number": 9,
       "text": [
        "<matplotlib.axes.AxesSubplot at 0x7fb9f8c223d0>"
       ]
      },
      {
       "metadata": {},
       "output_type": "display_data",
       "png": "[encoded data removed]",
       "text": [
        "<matplotlib.figure.Figure at 0x7fb9f8e56a50>"
       ]
      }
     ],
     "prompt_number": 9
    },
    {
     "cell_type": "markdown",
     "metadata": {},
     "source": [
      "Probably not stationary, because of VARIANCE."
     ]
    },
    {
     "cell_type": "code",
     "collapsed": false,
     "input": [
      "NDX_1d_returns.shift().dropna().describe(), NDX_1d_returns[1:5035].describe()"
     ],
     "language": "python",
     "metadata": {},
     "outputs": [
      {
       "metadata": {},
       "output_type": "pyout",
       "prompt_number": 28,
       "text": [
        "(count    5034.000000\n",
        "mean        0.000652\n",
        "std         0.018864\n",
        "min        -0.105195\n",
        "25%        -0.008098\n",
        "50%         0.001262\n",
        "75%         0.009422\n",
        "max         0.187713\n",
        "Name: Adj Close, dtype: float64,\n",
        " count    5034.000000\n",
        "mean        0.000648\n",
        "std         0.018864\n",
        "min        -0.105195\n",
        "25%        -0.008119\n",
        "50%         0.001253\n",
        "75%         0.009421\n",
        "max         0.187713\n",
        "Name: Adj Close, dtype: float64)"
       ]
      }
     ],
     "prompt_number": 28
    },
    {
     "cell_type": "markdown",
     "metadata": {},
     "source": [
      "Test EMH using asymptotic analysis. (Hypothesis formulated only as AR(1) process)"
     ]
    },
    {
     "cell_type": "code",
     "collapsed": false,
     "input": [
      "import statsmodels.api as sm"
     ],
     "language": "python",
     "metadata": {},
     "outputs": [],
     "prompt_number": 27
    },
    {
     "cell_type": "code",
     "collapsed": false,
     "input": [
      "y = NDX_1d_returns[1:5035]\n",
      "X = NDX_1d_returns.shift().dropna()\n",
      "X = sm.add_constant(X)  # Adds a constant term to the predictor\n",
      "X.head()"
     ],
     "language": "python",
     "metadata": {},
     "outputs": [
      {
       "html": [
        "<div style=\"max-height:1000px;max-width:1500px;overflow:auto;\">\n",
        "<table border=\"1\" class=\"dataframe\">\n",
        "  <thead>\n",
        "    <tr style=\"text-align: right;\">\n",
        "      <th></th>\n",
        "      <th>const</th>\n",
        "      <th>Adj Close</th>\n",
        "    </tr>\n",
        "    <tr>\n",
        "      <th>Date</th>\n",
        "      <th></th>\n",
        "      <th></th>\n",
        "    </tr>\n",
        "  </thead>\n",
        "  <tbody>\n",
        "    <tr>\n",
        "      <th>1994-12-05</th>\n",
        "      <td> 1</td>\n",
        "      <td> 0.011014</td>\n",
        "    </tr>\n",
        "    <tr>\n",
        "      <th>1994-12-06</th>\n",
        "      <td> 1</td>\n",
        "      <td> 0.001667</td>\n",
        "    </tr>\n",
        "    <tr>\n",
        "      <th>1994-12-07</th>\n",
        "      <td> 1</td>\n",
        "      <td>-0.006779</td>\n",
        "    </tr>\n",
        "    <tr>\n",
        "      <th>1994-12-08</th>\n",
        "      <td> 1</td>\n",
        "      <td>-0.010576</td>\n",
        "    </tr>\n",
        "    <tr>\n",
        "      <th>1994-12-09</th>\n",
        "      <td> 1</td>\n",
        "      <td>-0.023879</td>\n",
        "    </tr>\n",
        "  </tbody>\n",
        "</table>\n",
        "<p>5 rows \u00d7 2 columns</p>\n",
        "</div>"
       ],
       "metadata": {},
       "output_type": "pyout",
       "prompt_number": 31,
       "text": [
        "            const  Adj Close\n",
        "Date                        \n",
        "1994-12-05      1   0.011014\n",
        "1994-12-06      1   0.001667\n",
        "1994-12-07      1  -0.006779\n",
        "1994-12-08      1  -0.010576\n",
        "1994-12-09      1  -0.023879\n",
        "\n",
        "[5 rows x 2 columns]"
       ]
      }
     ],
     "prompt_number": 31
    },
    {
     "cell_type": "code",
     "collapsed": false,
     "input": [
      "est = sm.OLS(y, X)\n",
      "est = est.fit()\n",
      "est.summary()"
     ],
     "language": "python",
     "metadata": {},
     "outputs": [
      {
       "html": [
        "<table class=\"simpletable\">\n",
        "<caption>OLS Regression Results</caption>\n",
        "<tr>\n",
        "  <th>Dep. Variable:</th>        <td>Adj Close</td>    <th>  R-squared:         </th>  <td>   0.003</td> \n",
        "</tr>\n",
        "<tr>\n",
        "  <th>Model:</th>                   <td>OLS</td>       <th>  Adj. R-squared:    </th>  <td>   0.003</td> \n",
        "</tr>\n",
        "<tr>\n",
        "  <th>Method:</th>             <td>Least Squares</td>  <th>  F-statistic:       </th>  <td>   16.90</td> \n",
        "</tr>\n",
        "<tr>\n",
        "  <th>Date:</th>             <td>Wed, 31 Dec 2014</td> <th>  Prob (F-statistic):</th>  <td>3.99e-05</td> \n",
        "</tr>\n",
        "<tr>\n",
        "  <th>Time:</th>                 <td>17:00:43</td>     <th>  Log-Likelihood:    </th>  <td>  12854.</td> \n",
        "</tr>\n",
        "<tr>\n",
        "  <th>No. Observations:</th>      <td>  5034</td>      <th>  AIC:               </th> <td>-2.570e+04</td>\n",
        "</tr>\n",
        "<tr>\n",
        "  <th>Df Residuals:</th>          <td>  5032</td>      <th>  BIC:               </th> <td>-2.569e+04</td>\n",
        "</tr>\n",
        "<tr>\n",
        "  <th>Df Model:</th>              <td>     1</td>      <th>                     </th>      <td> </td>    \n",
        "</tr>\n",
        "<tr>\n",
        "  <th>Covariance Type:</th>      <td>nonrobust</td>    <th>                     </th>      <td> </td>    \n",
        "</tr>\n",
        "</table>\n",
        "<table class=\"simpletable\">\n",
        "<tr>\n",
        "      <td></td>         <th>coef</th>     <th>std err</th>      <th>t</th>      <th>P>|t|</th> <th>[95.0% Conf. Int.]</th> \n",
        "</tr>\n",
        "<tr>\n",
        "  <th>const</th>     <td>    0.0007</td> <td>    0.000</td> <td>    2.581</td> <td> 0.010</td> <td>    0.000     0.001</td>\n",
        "</tr>\n",
        "<tr>\n",
        "  <th>Adj Close</th> <td>   -0.0579</td> <td>    0.014</td> <td>   -4.111</td> <td> 0.000</td> <td>   -0.085    -0.030</td>\n",
        "</tr>\n",
        "</table>\n",
        "<table class=\"simpletable\">\n",
        "<tr>\n",
        "  <th>Omnibus:</th>       <td>662.160</td> <th>  Durbin-Watson:     </th> <td>   2.008</td>\n",
        "</tr>\n",
        "<tr>\n",
        "  <th>Prob(Omnibus):</th> <td> 0.000</td>  <th>  Jarque-Bera (JB):  </th> <td>6867.934</td>\n",
        "</tr>\n",
        "<tr>\n",
        "  <th>Skew:</th>          <td> 0.235</td>  <th>  Prob(JB):          </th> <td>    0.00</td>\n",
        "</tr>\n",
        "<tr>\n",
        "  <th>Kurtosis:</th>      <td> 8.703</td>  <th>  Cond. No.          </th> <td>    53.0</td>\n",
        "</tr>\n",
        "</table>"
       ],
       "metadata": {},
       "output_type": "pyout",
       "prompt_number": 35,
       "text": [
        "<class 'statsmodels.iolib.summary.Summary'>\n",
        "\"\"\"\n",
        "                            OLS Regression Results                            \n",
        "==============================================================================\n",
        "Dep. Variable:              Adj Close   R-squared:                       0.003\n",
        "Model:                            OLS   Adj. R-squared:                  0.003\n",
        "Method:                 Least Squares   F-statistic:                     16.90\n",
        "Date:                Wed, 31 Dec 2014   Prob (F-statistic):           3.99e-05\n",
        "Time:                        17:00:43   Log-Likelihood:                 12854.\n",
        "No. Observations:                5034   AIC:                        -2.570e+04\n",
        "Df Residuals:                    5032   BIC:                        -2.569e+04\n",
        "Df Model:                           1                                         \n",
        "Covariance Type:            nonrobust                                         \n",
        "==============================================================================\n",
        "                 coef    std err          t      P>|t|      [95.0% Conf. Int.]\n",
        "------------------------------------------------------------------------------\n",
        "const          0.0007      0.000      2.581      0.010         0.000     0.001\n",
        "Adj Close     -0.0579      0.014     -4.111      0.000        -0.085    -0.030\n",
        "==============================================================================\n",
        "Omnibus:                      662.160   Durbin-Watson:                   2.008\n",
        "Prob(Omnibus):                  0.000   Jarque-Bera (JB):             6867.934\n",
        "Skew:                           0.235   Prob(JB):                         0.00\n",
        "Kurtosis:                       8.703   Cond. No.                         53.0\n",
        "==============================================================================\n",
        "\n",
        "Warnings:\n",
        "[1] Standard Errors assume that the covariance matrix of the errors is correctly specified.\n",
        "\"\"\""
       ]
      }
     ],
     "prompt_number": 35
    },
    {
     "cell_type": "markdown",
     "metadata": {},
     "source": [
      "We cannot reject H_0(EMH)."
     ]
    }
   ],
   "metadata": {}
  }
 ]
}
